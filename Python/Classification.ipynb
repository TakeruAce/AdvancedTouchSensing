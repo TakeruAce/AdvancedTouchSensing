{
 "cells": [
  {
   "cell_type": "markdown",
   "metadata": {},
   "source": [
    "# Requirement"
   ]
  },
  {
   "cell_type": "markdown",
   "metadata": {},
   "source": [
    "* anaconda3-4.3.1"
   ]
  },
  {
   "cell_type": "markdown",
   "metadata": {},
   "source": [
    "# Import"
   ]
  },
  {
   "cell_type": "code",
   "execution_count": 1,
   "metadata": {
    "collapsed": false
   },
   "outputs": [
    {
     "name": "stderr",
     "output_type": "stream",
     "text": [
      "/Users/nomiyama/.pyenv/versions/anaconda3-4.3.1/lib/python3.6/site-packages/sklearn/cross_validation.py:44: DeprecationWarning: This module was deprecated in version 0.18 in favor of the model_selection module into which all the refactored classes and functions are moved. Also note that the interface of the new CV iterators are different from that of this module. This module will be removed in 0.20.\n",
      "  \"This module will be removed in 0.20.\", DeprecationWarning)\n"
     ]
    }
   ],
   "source": [
    "%matplotlib inline\n",
    "import glob\n",
    "from IPython.display import display\n",
    "import numpy as np\n",
    "import pandas as pd\n",
    "import re\n",
    "import socket\n",
    "from sklearn import datasets\n",
    "from sklearn.cross_validation import train_test_split\n",
    "from sklearn.metrics import accuracy_score\n",
    "from sklearn.multiclass import OneVsRestClassifier\n",
    "from sklearn.preprocessing import StandardScaler\n",
    "from sklearn.svm import SVC"
   ]
  },
  {
   "cell_type": "markdown",
   "metadata": {},
   "source": [
    "# Define"
   ]
  },
  {
   "cell_type": "code",
   "execution_count": 2,
   "metadata": {
    "collapsed": false
   },
   "outputs": [],
   "source": [
    "file_name = '../Processing/Recorder/data/*.csv'\n",
    "sensing_num = 4\n",
    "frequency_num = (255 - 30) // sensing_num\n",
    "client_host = '192.168.1.27'\n",
    "client_port = 10001\n",
    "server_host = ''\n",
    "server_port = 10002"
   ]
  },
  {
   "cell_type": "markdown",
   "metadata": {},
   "source": [
    "# Preprocess"
   ]
  },
  {
   "cell_type": "code",
   "execution_count": 3,
   "metadata": {
    "collapsed": false
   },
   "outputs": [],
   "source": [
    "files =  glob.glob(file_name)\n",
    "voltages = [None for f in files]\n",
    "for i, f in enumerate(files):\n",
    "    column_names = ['label{0}'.format(i)]\n",
    "    column_names.extend(['frequency{0}_{1:02d}'.format(i, j+1) for j in range(frequency_num)])\n",
    "    voltages[i] = pd.read_csv(f, names=column_names, index_col=False)\n",
    "    voltages[i] = voltages[i].fillna(method='ffill', axis=1)\n",
    "\n",
    "voltage = pd.concat(voltages, axis=1)\n",
    "\n",
    "# inspect consistency\n",
    "for i in range(sensing_num - 1):\n",
    "    voltage = voltage[voltage['label{0}'.format(i)] == voltage['label{0}'.format(i + 1)]]\n",
    "\n",
    "y = voltage['label0']\n",
    "for i in range(sensing_num):\n",
    "    voltage = voltage.drop('label{0}'.format(i), axis=1)\n",
    "X = voltage"
   ]
  },
  {
   "cell_type": "markdown",
   "metadata": {},
   "source": [
    "# Learn\n",
    "* ovo = One vs One\n",
    "* ovr = One vs the Rest"
   ]
  },
  {
   "cell_type": "code",
   "execution_count": 4,
   "metadata": {
    "collapsed": false
   },
   "outputs": [
    {
     "name": "stdout",
     "output_type": "stream",
     "text": [
      "正解率： 1.00 (One vs One)\n",
      "正解率： 1.00 (One vs the Rest)\n"
     ]
    }
   ],
   "source": [
    "X_train, X_test, y_train, y_test = train_test_split(X, y, test_size=0.3, random_state=None )\n",
    "ovo_model = SVC(kernel='linear', random_state=None)\n",
    "ovr_model = OneVsRestClassifier(ovo_model)\n",
    "ovo_model.fit(X_train, y_train)\n",
    "ovr_model.fit(X_train, y_train)\n",
    "\n",
    "ovo_prediction = ovo_model.predict(X_test)\n",
    "accuracy_test = accuracy_score(y_test, ovo_prediction)\n",
    "print('正解率： %.2f (One vs One)' % accuracy_test)\n",
    "\n",
    "ovr_prediction = ovr_model.predict(X_test)\n",
    "accuracy_test = accuracy_score(y_test, ovr_prediction)\n",
    "print('正解率： %.2f (One vs the Rest)' % accuracy_test)"
   ]
  },
  {
   "cell_type": "markdown",
   "metadata": {},
   "source": [
    "# Real Time Prediction\n",
    "* python側を先に起動\n",
    "* Processingのserver.ip()を確認"
   ]
  },
  {
   "cell_type": "code",
   "execution_count": 7,
   "metadata": {
    "collapsed": false
   },
   "outputs": [
    {
     "name": "stdout",
     "output_type": "stream",
     "text": [
      "Connected by ('127.0.0.1', 65305)\n",
      "Exit\n"
     ]
    }
   ],
   "source": [
    "pattern = re.compile(r'.*finished$')\n",
    "\n",
    "string_data = ''\n",
    "voltage = pd.Series([np.nan for i in range(frequency_num * sensing_num)])\n",
    "voltages = [pd.Series([np.nan for i in range(frequency_num)]) for i in range(sensing_num)]\n",
    "\n",
    "try:\n",
    "    with socket.socket(socket.AF_INET, socket.SOCK_STREAM) as s:\n",
    "        s.bind((server_host, server_port))\n",
    "        s.listen(1)\n",
    "        connection, address = s.accept()\n",
    "        with connection:\n",
    "            print('Connected by', address)\n",
    "            \n",
    "            while True:\n",
    "                response = connection.recv(1024)\n",
    "                if not response:\n",
    "                    continue\n",
    "                string_data += response.decode()\n",
    "                if (re.match(pattern, string_data)):\n",
    "                    data_list = [x.split('/')[1:] for x in string_data.split('/pause/')[:sensing_num]]\n",
    "                    for i, data in enumerate(data_list):\n",
    "                        data = [float(x) for x in data]    \n",
    "                        voltages[i][:len(data)] = data[-1 * frequency_num:]\n",
    "                        voltages[i] = voltages[i].fillna(method='ffill')\n",
    "\n",
    "                    voltage[:] = pd.concat(voltages)[:]\n",
    "                    state = ovo_model.predict([voltage])[0]\n",
    "\n",
    "                    socket_client = socket.socket(socket.AF_INET, socket.SOCK_STREAM)\n",
    "                    socket_client.connect((client_host, client_port))\n",
    "                    socket_client.send(state.encode('utf-8'))\n",
    "\n",
    "                    string_data=''\n",
    "                    voltage = pd.Series([np.nan for i in range(frequency_num * sensing_num)])\n",
    "                    voltages = [pd.Series([np.nan for i in range(frequency_num)]) for i in range(sensing_num)]\n",
    "\n",
    "except KeyboardInterrupt:\n",
    "    print('Exit')"
   ]
  }
 ],
 "metadata": {
  "kernelspec": {
   "display_name": "Python 3",
   "language": "python",
   "name": "python3"
  },
  "language_info": {
   "codemirror_mode": {
    "name": "ipython",
    "version": 3
   },
   "file_extension": ".py",
   "mimetype": "text/x-python",
   "name": "python",
   "nbconvert_exporter": "python",
   "pygments_lexer": "ipython3",
   "version": "3.6.0"
  }
 },
 "nbformat": 4,
 "nbformat_minor": 2
}
